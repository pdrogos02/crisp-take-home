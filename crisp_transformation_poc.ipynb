{
 "cells": [
  {
   "cell_type": "code",
   "execution_count": 1,
   "id": "f8ac6df1",
   "metadata": {},
   "outputs": [],
   "source": [
    "import warnings, json, io, yaml\n",
    "\n",
    "import pandas as pd\n",
    "from contextlib import redirect_stderr\n",
    "from decimal import Decimal\n",
    "\n",
    "from utils import get_logger"
   ]
  },
  {
   "cell_type": "code",
   "execution_count": 2,
   "id": "789c324a",
   "metadata": {},
   "outputs": [],
   "source": [
    "def create_new_col(raw_df, key, value):\n",
    "    if not any(col in value for col in raw_df.columns):\n",
    "        raw_df[key] = ''.join(map(str, value))\n",
    "    \n",
    "    else:\n",
    "        raw_df[key] = raw_df[value].astype(str).apply('-'.join, axis=1)\n",
    "\n",
    "    return raw_df"
   ]
  },
  {
   "cell_type": "code",
   "execution_count": 3,
   "id": "bd7807a0",
   "metadata": {},
   "outputs": [
    {
     "name": "stdout",
     "output_type": "stream",
     "text": [
      "2024-02-27 00:59:44,719|data_wrangling_logger|INFO|initial log message\n"
     ]
    }
   ],
   "source": [
    "logger = get_logger()\n",
    "\n",
    "logger.info('initial log message')"
   ]
  },
  {
   "cell_type": "code",
   "execution_count": 6,
   "id": "c62f14de",
   "metadata": {},
   "outputs": [
    {
     "data": {
      "text/plain": [
       "{'renamed_cols': {'Order Number': 'OrderId',\n",
       "  'Product Number': 'ProductId',\n",
       "  'Product Name': 'ProductName',\n",
       "  'Count': 'Quantity'},\n",
       " 'new_cols': {'Unit': ['kg'], 'OrderDate': ['Year', 'Month', 'Day']},\n",
       " 'dtype_cols': {'int': ['OrderId'],\n",
       "  'str': ['ProductId', 'ProductName', 'Unit'],\n",
       "  'decimal': ['Quantity'],\n",
       "  'datetime': ['OrderDate']},\n",
       " 'str_dtype_cols_manipulation': {'proper_case': ['ProductName']}}"
      ]
     },
     "execution_count": 6,
     "metadata": {},
     "output_type": "execute_result"
    }
   ],
   "source": [
    "# with open('crisp_take_home_config.json') as f:\n",
    "#     config_dict = json.load(f)\n",
    "    \n",
    "# config_dict \n",
    "\n",
    "with open(\"config.yml\", \"r\") as file:\n",
    "    config_dict = yaml.safe_load(file)\n",
    "    \n",
    "config_dict"
   ]
  },
  {
   "cell_type": "code",
   "execution_count": 5,
   "id": "f83e4407",
   "metadata": {},
   "outputs": [
    {
     "name": "stdout",
     "output_type": "stream",
     "text": [
      "2024-02-27 00:59:55,345|data_wrangling_logger|WARNING|Reading in line - bad line: \n",
      "Skipping line 5: expected 10 fields, saw 11\n",
      "Skipping line 7: expected 10 fields, saw 11\n",
      "Skipping line 10: expected 10 fields, saw 11\n",
      "Skipping line 13: expected 10 fields, saw 11\n",
      "\n",
      "\n"
     ]
    }
   ],
   "source": [
    "from contextlib import redirect_stderr, closing\n",
    "import io\n",
    "\n",
    "f = io.StringIO()\n",
    "\n",
    "with redirect_stderr(f):\n",
    "    raw_df = pd.read_csv('/Users/peterphyall/Documents/profdev/crisp_take_home/dummy_input_data_manual.csv', \n",
    "                         on_bad_lines='warn')\n",
    "\n",
    "if f.getvalue():\n",
    "    logger.warning(f\"Reading in line - bad line(s): \\n{f.getvalue()}\")"
   ]
  },
  {
   "cell_type": "code",
   "execution_count": null,
   "id": "cc5a7e6e",
   "metadata": {},
   "outputs": [],
   "source": [
    "raw_df"
   ]
  },
  {
   "cell_type": "code",
   "execution_count": null,
   "id": "44023726",
   "metadata": {},
   "outputs": [],
   "source": [
    "raw_df.info(verbose=True)"
   ]
  },
  {
   "cell_type": "code",
   "execution_count": null,
   "id": "15b5399c",
   "metadata": {},
   "outputs": [],
   "source": [
    "for key, value in config_dict['dtype_cols'].items():\n",
    "    print(key, value)"
   ]
  },
  {
   "cell_type": "code",
   "execution_count": null,
   "id": "4bdcff53",
   "metadata": {},
   "outputs": [],
   "source": [
    "raw_df"
   ]
  },
  {
   "cell_type": "code",
   "execution_count": 6,
   "id": "3c273121",
   "metadata": {},
   "outputs": [],
   "source": [
    "# 1) rename cols\n",
    "raw_df = raw_df.rename(columns=config_dict['renamed_cols'])\n",
    "\n",
    "# 2) create new cols\n",
    "for key, value in config_dict['new_cols'].items():\n",
    "    raw_df = create_new_col(raw_df, key, value)\n",
    "    \n",
    "# 3) dtype conversions\n",
    "for key, value in config_dict['dtype_cols'].items():\n",
    "    if 'int' in key or 'str' in key:\n",
    "        raw_df[value] = raw_df[value].astype(key)\n",
    "    \n",
    "    elif 'datetime' in key:\n",
    "        raw_df[value] = raw_df[value].apply(pd.to_datetime)\n",
    "\n",
    "    elif 'decimal' in key:\n",
    "        raw_df[value] = raw_df[value].apply(lambda x: x.str.replace(',', \"\")).apply(lambda x: x.apply(Decimal))\n",
    "\n",
    "# 4) str dtype conversions\n",
    "for key, value in config_dict['str_cols_conversion'].items():\n",
    "    if 'proper_case' in key:\n",
    "        raw_df[value] = raw_df[value].apply(lambda x: x.str.title())\n",
    "\n",
    "raw_df = raw_df[['OrderId', 'OrderDate', 'ProductId', 'ProductName', 'Quantity', 'Unit']]"
   ]
  },
  {
   "cell_type": "code",
   "execution_count": 7,
   "id": "bca985b9",
   "metadata": {},
   "outputs": [
    {
     "data": {
      "text/html": [
       "<div>\n",
       "<style scoped>\n",
       "    .dataframe tbody tr th:only-of-type {\n",
       "        vertical-align: middle;\n",
       "    }\n",
       "\n",
       "    .dataframe tbody tr th {\n",
       "        vertical-align: top;\n",
       "    }\n",
       "\n",
       "    .dataframe thead th {\n",
       "        text-align: right;\n",
       "    }\n",
       "</style>\n",
       "<table border=\"1\" class=\"dataframe\">\n",
       "  <thead>\n",
       "    <tr style=\"text-align: right;\">\n",
       "      <th></th>\n",
       "      <th>OrderId</th>\n",
       "      <th>OrderDate</th>\n",
       "      <th>ProductId</th>\n",
       "      <th>ProductName</th>\n",
       "      <th>Quantity</th>\n",
       "      <th>Unit</th>\n",
       "    </tr>\n",
       "  </thead>\n",
       "  <tbody>\n",
       "    <tr>\n",
       "      <th>0</th>\n",
       "      <td>1000</td>\n",
       "      <td>2018-01-01</td>\n",
       "      <td>P-10001</td>\n",
       "      <td>Arugola</td>\n",
       "      <td>5250.50</td>\n",
       "      <td>kg</td>\n",
       "    </tr>\n",
       "    <tr>\n",
       "      <th>1</th>\n",
       "      <td>1001</td>\n",
       "      <td>2017-12-12</td>\n",
       "      <td>P-10002</td>\n",
       "      <td>Iceberg Lettuce</td>\n",
       "      <td>500.00</td>\n",
       "      <td>kg</td>\n",
       "    </tr>\n",
       "    <tr>\n",
       "      <th>2</th>\n",
       "      <td>1002</td>\n",
       "      <td>2017-12-12</td>\n",
       "      <td>P-10002</td>\n",
       "      <td>Iceberg Lettuce</td>\n",
       "      <td>500.00</td>\n",
       "      <td>kg</td>\n",
       "    </tr>\n",
       "    <tr>\n",
       "      <th>3</th>\n",
       "      <td>1004</td>\n",
       "      <td>2017-12-12</td>\n",
       "      <td>P-10002</td>\n",
       "      <td>Iceberg Lettuce</td>\n",
       "      <td>500.00</td>\n",
       "      <td>kg</td>\n",
       "    </tr>\n",
       "    <tr>\n",
       "      <th>4</th>\n",
       "      <td>1006</td>\n",
       "      <td>2017-12-12</td>\n",
       "      <td>P-10002</td>\n",
       "      <td>Iceberg Lettuce</td>\n",
       "      <td>500.00</td>\n",
       "      <td>kg</td>\n",
       "    </tr>\n",
       "    <tr>\n",
       "      <th>5</th>\n",
       "      <td>1007</td>\n",
       "      <td>2017-12-12</td>\n",
       "      <td>P-10002</td>\n",
       "      <td>Iceberg Lettuce</td>\n",
       "      <td>500.00</td>\n",
       "      <td>kg</td>\n",
       "    </tr>\n",
       "    <tr>\n",
       "      <th>6</th>\n",
       "      <td>1009</td>\n",
       "      <td>2017-12-12</td>\n",
       "      <td>P-10002</td>\n",
       "      <td>Iceberg Lettuce</td>\n",
       "      <td>500.00</td>\n",
       "      <td>kg</td>\n",
       "    </tr>\n",
       "    <tr>\n",
       "      <th>7</th>\n",
       "      <td>1010</td>\n",
       "      <td>2017-12-12</td>\n",
       "      <td>P-10002</td>\n",
       "      <td>Iceberg Lettuce</td>\n",
       "      <td>500.00</td>\n",
       "      <td>kg</td>\n",
       "    </tr>\n",
       "  </tbody>\n",
       "</table>\n",
       "</div>"
      ],
      "text/plain": [
       "   OrderId  OrderDate ProductId      ProductName Quantity Unit\n",
       "0     1000 2018-01-01   P-10001          Arugola  5250.50   kg\n",
       "1     1001 2017-12-12   P-10002  Iceberg Lettuce   500.00   kg\n",
       "2     1002 2017-12-12   P-10002  Iceberg Lettuce   500.00   kg\n",
       "3     1004 2017-12-12   P-10002  Iceberg Lettuce   500.00   kg\n",
       "4     1006 2017-12-12   P-10002  Iceberg Lettuce   500.00   kg\n",
       "5     1007 2017-12-12   P-10002  Iceberg Lettuce   500.00   kg\n",
       "6     1009 2017-12-12   P-10002  Iceberg Lettuce   500.00   kg\n",
       "7     1010 2017-12-12   P-10002  Iceberg Lettuce   500.00   kg"
      ]
     },
     "execution_count": 7,
     "metadata": {},
     "output_type": "execute_result"
    }
   ],
   "source": [
    "raw_df"
   ]
  },
  {
   "cell_type": "code",
   "execution_count": null,
   "id": "f10f5df7",
   "metadata": {
    "scrolled": true
   },
   "outputs": [],
   "source": [
    "raw_df.info(verbose=True)"
   ]
  },
  {
   "cell_type": "code",
   "execution_count": 9,
   "id": "db67c7fa",
   "metadata": {},
   "outputs": [
    {
     "data": {
      "text/plain": [
       "decimal.Decimal"
      ]
     },
     "execution_count": 9,
     "metadata": {},
     "output_type": "execute_result"
    }
   ],
   "source": [
    "type(raw_df['Quantity'].iloc[0])"
   ]
  },
  {
   "cell_type": "code",
   "execution_count": null,
   "id": "858ef4ac",
   "metadata": {},
   "outputs": [],
   "source": []
  },
  {
   "cell_type": "code",
   "execution_count": null,
   "id": "ef43ff35",
   "metadata": {},
   "outputs": [],
   "source": []
  },
  {
   "cell_type": "markdown",
   "id": "20bb191a",
   "metadata": {},
   "source": [
    "### read in config.yml"
   ]
  },
  {
   "cell_type": "code",
   "execution_count": null,
   "id": "4726360d",
   "metadata": {},
   "outputs": [],
   "source": [
    "my_str = 'a string that needs formatting'\n",
    "\n",
    "eval(\"my_str.\")"
   ]
  },
  {
   "cell_type": "code",
   "execution_count": 5,
   "id": "49c82bcb",
   "metadata": {},
   "outputs": [
    {
     "data": {
      "text/plain": [
       "{'renamed_cols': {'Order Number': 'OrderId',\n",
       "  'Product Number': 'ProductId',\n",
       "  'Product Name': 'ProductName',\n",
       "  'Count': 'Quantity'},\n",
       " 'new_cols': {'Unit': ['kg'], 'OrderDate': ['Year', 'Month', 'Day']},\n",
       " 'dtype_cols': {'int': ['OrderId'],\n",
       "  'str': ['ProductId', 'ProductName', 'Unit'],\n",
       "  'decimal': ['Quantity'],\n",
       "  'datetime': ['OrderDate']},\n",
       " 'str_dtype_cols_manipulation': {'proper_case': ['ProductName']}}"
      ]
     },
     "execution_count": 5,
     "metadata": {},
     "output_type": "execute_result"
    }
   ],
   "source": [
    "import yaml\n",
    "\n",
    "with open(\"config.yml\", \"r\") as file:\n",
    "    config_dict = yaml.safe_load(file)\n",
    "    \n",
    "config_dict"
   ]
  }
 ],
 "metadata": {
  "kernelspec": {
   "display_name": "Python 3 (ipykernel)",
   "language": "python",
   "name": "python3"
  },
  "language_info": {
   "codemirror_mode": {
    "name": "ipython",
    "version": 3
   },
   "file_extension": ".py",
   "mimetype": "text/x-python",
   "name": "python",
   "nbconvert_exporter": "python",
   "pygments_lexer": "ipython3",
   "version": "3.11.5"
  }
 },
 "nbformat": 4,
 "nbformat_minor": 5
}
